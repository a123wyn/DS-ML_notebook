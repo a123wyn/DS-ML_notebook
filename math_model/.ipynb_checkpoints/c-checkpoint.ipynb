{
 "cells": [
  {
   "cell_type": "code",
   "execution_count": 1,
   "metadata": {},
   "outputs": [],
   "source": [
    "import numpy as np\n",
    "import pandas as pd\n",
    "import matplotlib.pyplot as plt"
   ]
  },
  {
   "cell_type": "code",
   "execution_count": null,
   "metadata": {},
   "outputs": [],
   "source": [
    "info=pd.read_excel('./data/1.xlsx',sheet_name='企业信息')\n",
    "info.head(5)\n",
    "income=pd.read_excel('./data/1.xlsx',sheet_name='进项发票信息')\n",
    "income.head(5)\n",
    "outcome=pd.read_excel('./data/1.xlsx',sheet_name='销项发票信息')\n",
    "outcome.head(5)"
   ]
  },
  {
   "cell_type": "code",
   "execution_count": null,
   "metadata": {
    "scrolled": true
   },
   "outputs": [],
   "source": [
    "income.dropna(axis=0)\n",
    "outcome.dropna(axis=0)\n",
    "# 废票率看销项发票信息，是该公司开的发票\n",
    "for i in range(1,124):\n",
    "    no='E'+str(i)\n",
    "    info.loc[(info['企业代号']==no),'总票数']=pd.DataFrame(outcome.loc[outcome['企业代号']==no].count()).iloc[0,0]\n",
    "    info.loc[(info['企业代号']==no),'废票数']=pd.DataFrame(outcome.loc[(outcome['发票状态']=='作废发票')&(outcome['企业代号']==no)].count()).iloc[0,0]\n",
    "info['废票率']=info['废票数']/info['总票数']\n",
    "info.head(5)"
   ]
  },
  {
   "cell_type": "code",
   "execution_count": 69,
   "metadata": {},
   "outputs": [],
   "source": [
    "# 删掉作废发票\n",
    "income.drop(index=(income.loc[(income['发票状态']=='作废发票')].index),axis=0,inplace=True)\n",
    "outcome.drop(index=(outcome.loc[(outcome['发票状态']=='作废发票')].index),axis=0,inplace=True)\n",
    "# info=pd.merge(info,pd.DataFrame(outcome.groupby('企业代号')['金额'].sum()),how='inner',on='企业代号')\n",
    "# info.head(5)"
   ]
  },
  {
   "cell_type": "code",
   "execution_count": 70,
   "metadata": {},
   "outputs": [],
   "source": [
    "# info.rename(columns={'金额':'总销售额'},inplace=True)\n",
    "# info.drop(index=(info.loc[(info['信誉评级']=='D')].index),axis=0,inplace=True)"
   ]
  },
  {
   "cell_type": "code",
   "execution_count": 71,
   "metadata": {},
   "outputs": [],
   "source": [
    "# outcome['开票日期']=pd.to_datetime(outcome['开票日期'])\n",
    "# outcome=outcome.set_index('企业代号')\n",
    "#手动分割月份\n",
    "# dic = {\n",
    "#     \"2016-10\": \"1610\",\n",
    "#     \"2016-11\": \"1611\",\n",
    "#     \"2016-12\": \"1612\", \n",
    "    \n",
    "#     \"2017-01\": \"1701\",\n",
    "#     \"2017-02\": \"1702\",\n",
    "#     \"2017-03\": \"1703\",\n",
    "#     \"2017-04\": \"1704\",\n",
    "#     \"2017-05\": \"1705\",\n",
    "#     \"2017-06\": \"1706\",    \n",
    "#     \"2017-07\": \"1707\",\n",
    "#     \"2017-08\": \"1708\",\n",
    "#     \"2017-09\": \"1709\",\n",
    "#     \"2017-10\": \"1710\",\n",
    "#     \"2017-11\": \"1711\",\n",
    "#     \"2017-12\": \"1712\",   \n",
    "    \n",
    "#     \"2018-01\": \"1813\",\n",
    "#     \"2018-02\": \"18Q1\",\n",
    "#     \"2018-03\": \"18Q1\",\n",
    "#     \"2018-04\": \"18Q2\",\n",
    "#     \"2018-05\": \"18Q2\",\n",
    "#     \"2018-06\": \"18Q2\",    \n",
    "#     \"2018-07\": \"18Q3\",\n",
    "#     \"2018-08\": \"18Q3\",\n",
    "#     \"2018-09\": \"18Q3\",\n",
    "#     \"2018-10\": \"18Q4\",\n",
    "#     \"2018-11\": \"18Q4\",\n",
    "#     \"2018-12\": \"18Q4\",   \n",
    "    \n",
    "#     \"2019-01\": \"19Q1\",\n",
    "#     \"2019-02\": \"19Q1\",\n",
    "#     \"2019-03\": \"19Q1\",\n",
    "#     \"2019-04\": \"19Q2\",\n",
    "#     \"2019-05\": \"19Q2\",\n",
    "#     \"2019-06\": \"19Q2\", \n",
    "#     \"2019-07\": \"19Q3\",\n",
    "#     \"2019-08\": \"19Q3\",\n",
    "#     \"2019-09\": \"19Q3\",\n",
    "#     \"2019-10\": \"19Q4\",\n",
    "#     \"2019-11\": \"19Q4\",\n",
    "#     \"2019-12\": \"19Q4\",\n",
    "    \n",
    "#     \"2020-01\": \"20Q1\",\n",
    "#     \"2020-02\": \"20Q1\",\n",
    "#     \"2020-03\": \"20Q1\",\n",
    "# }\n",
    "# outcome['季度']=outcome['年与月'].map(dic)"
   ]
  },
  {
   "cell_type": "code",
   "execution_count": 72,
   "metadata": {},
   "outputs": [],
   "source": [
    "# outcome=pd.merge(outcome,pd.DataFrame(outcome.groupby([outcome['企业代号'],outcome['季度']])['金额'].sum()),on=['企业代号','季度'])\n",
    "# outcome.rename(columns={'金额_y':'季度销售额'},inplace=True)"
   ]
  },
  {
   "cell_type": "code",
   "execution_count": 73,
   "metadata": {},
   "outputs": [
    {
     "ename": "ValueError",
     "evalue": "NaTType does not support strftime",
     "output_type": "error",
     "traceback": [
      "\u001b[1;31m---------------------------------------------------------------------------\u001b[0m",
      "\u001b[1;31mValueError\u001b[0m                                Traceback (most recent call last)",
      "\u001b[1;32m<ipython-input-73-4d5ca8df7fd0>\u001b[0m in \u001b[0;36m<module>\u001b[1;34m\u001b[0m\n\u001b[0;32m      1\u001b[0m \u001b[1;31m# 生成年份与月份\u001b[0m\u001b[1;33m\u001b[0m\u001b[1;33m\u001b[0m\u001b[1;33m\u001b[0m\u001b[0m\n\u001b[1;32m----> 2\u001b[1;33m \u001b[0moutcome\u001b[0m\u001b[1;33m[\u001b[0m\u001b[1;34m'年与月'\u001b[0m\u001b[1;33m]\u001b[0m\u001b[1;33m=\u001b[0m\u001b[0moutcome\u001b[0m\u001b[1;33m[\u001b[0m\u001b[1;34m'开票日期'\u001b[0m\u001b[1;33m]\u001b[0m\u001b[1;33m.\u001b[0m\u001b[0mapply\u001b[0m\u001b[1;33m(\u001b[0m\u001b[1;32mlambda\u001b[0m \u001b[0mx\u001b[0m\u001b[1;33m:\u001b[0m\u001b[0mx\u001b[0m\u001b[1;33m.\u001b[0m\u001b[0mstrftime\u001b[0m\u001b[1;33m(\u001b[0m\u001b[1;34m\"%Y-%m-%d\"\u001b[0m\u001b[1;33m)\u001b[0m\u001b[1;33m)\u001b[0m\u001b[1;33m.\u001b[0m\u001b[0mmap\u001b[0m\u001b[1;33m(\u001b[0m\u001b[1;32mlambda\u001b[0m \u001b[0mx\u001b[0m\u001b[1;33m:\u001b[0m\u001b[0mx\u001b[0m\u001b[1;33m[\u001b[0m\u001b[1;33m:\u001b[0m\u001b[1;36m7\u001b[0m\u001b[1;33m]\u001b[0m\u001b[1;33m)\u001b[0m\u001b[1;33m\u001b[0m\u001b[1;33m\u001b[0m\u001b[0m\n\u001b[0m\u001b[0;32m      3\u001b[0m \u001b[0moutcome\u001b[0m\u001b[1;33m[\u001b[0m\u001b[1;34m'年'\u001b[0m\u001b[1;33m]\u001b[0m\u001b[1;33m=\u001b[0m\u001b[0moutcome\u001b[0m\u001b[1;33m[\u001b[0m\u001b[1;34m'开票日期'\u001b[0m\u001b[1;33m]\u001b[0m\u001b[1;33m.\u001b[0m\u001b[0mapply\u001b[0m\u001b[1;33m(\u001b[0m\u001b[1;32mlambda\u001b[0m \u001b[0mx\u001b[0m\u001b[1;33m:\u001b[0m\u001b[0mx\u001b[0m\u001b[1;33m.\u001b[0m\u001b[0mstrftime\u001b[0m\u001b[1;33m(\u001b[0m\u001b[1;34m\"%Y-%m-%d\"\u001b[0m\u001b[1;33m)\u001b[0m\u001b[1;33m)\u001b[0m\u001b[1;33m.\u001b[0m\u001b[0mmap\u001b[0m\u001b[1;33m(\u001b[0m\u001b[1;32mlambda\u001b[0m \u001b[0mx\u001b[0m\u001b[1;33m:\u001b[0m\u001b[0mx\u001b[0m\u001b[1;33m[\u001b[0m\u001b[1;33m:\u001b[0m\u001b[1;36m4\u001b[0m\u001b[1;33m]\u001b[0m\u001b[1;33m)\u001b[0m\u001b[1;33m\u001b[0m\u001b[1;33m\u001b[0m\u001b[0m\n\u001b[0;32m      4\u001b[0m \u001b[0mincome\u001b[0m\u001b[1;33m[\u001b[0m\u001b[1;34m'年与月'\u001b[0m\u001b[1;33m]\u001b[0m\u001b[1;33m=\u001b[0m\u001b[0mincome\u001b[0m\u001b[1;33m[\u001b[0m\u001b[1;34m'开票日期'\u001b[0m\u001b[1;33m]\u001b[0m\u001b[1;33m.\u001b[0m\u001b[0mapply\u001b[0m\u001b[1;33m(\u001b[0m\u001b[1;32mlambda\u001b[0m \u001b[0mx\u001b[0m\u001b[1;33m:\u001b[0m\u001b[0mx\u001b[0m\u001b[1;33m.\u001b[0m\u001b[0mstrftime\u001b[0m\u001b[1;33m(\u001b[0m\u001b[1;34m\"%Y-%m-%d\"\u001b[0m\u001b[1;33m)\u001b[0m\u001b[1;33m)\u001b[0m\u001b[1;33m.\u001b[0m\u001b[0mmap\u001b[0m\u001b[1;33m(\u001b[0m\u001b[1;32mlambda\u001b[0m \u001b[0mx\u001b[0m\u001b[1;33m:\u001b[0m\u001b[0mx\u001b[0m\u001b[1;33m[\u001b[0m\u001b[1;33m:\u001b[0m\u001b[1;36m7\u001b[0m\u001b[1;33m]\u001b[0m\u001b[1;33m)\u001b[0m\u001b[1;33m\u001b[0m\u001b[1;33m\u001b[0m\u001b[0m\n\u001b[0;32m      5\u001b[0m \u001b[0mincome\u001b[0m\u001b[1;33m[\u001b[0m\u001b[1;34m'年'\u001b[0m\u001b[1;33m]\u001b[0m\u001b[1;33m=\u001b[0m\u001b[0mincome\u001b[0m\u001b[1;33m[\u001b[0m\u001b[1;34m'开票日期'\u001b[0m\u001b[1;33m]\u001b[0m\u001b[1;33m.\u001b[0m\u001b[0mapply\u001b[0m\u001b[1;33m(\u001b[0m\u001b[1;32mlambda\u001b[0m \u001b[0mx\u001b[0m\u001b[1;33m:\u001b[0m\u001b[0mx\u001b[0m\u001b[1;33m.\u001b[0m\u001b[0mstrftime\u001b[0m\u001b[1;33m(\u001b[0m\u001b[1;34m\"%Y-%m-%d\"\u001b[0m\u001b[1;33m)\u001b[0m\u001b[1;33m)\u001b[0m\u001b[1;33m.\u001b[0m\u001b[0mmap\u001b[0m\u001b[1;33m(\u001b[0m\u001b[1;32mlambda\u001b[0m \u001b[0mx\u001b[0m\u001b[1;33m:\u001b[0m\u001b[0mx\u001b[0m\u001b[1;33m[\u001b[0m\u001b[1;33m:\u001b[0m\u001b[1;36m4\u001b[0m\u001b[1;33m]\u001b[0m\u001b[1;33m)\u001b[0m\u001b[1;33m\u001b[0m\u001b[1;33m\u001b[0m\u001b[0m\n",
      "\u001b[1;32mF:\\yanan\\Anaconda3\\lib\\site-packages\\pandas\\core\\series.py\u001b[0m in \u001b[0;36mapply\u001b[1;34m(self, func, convert_dtype, args, **kwds)\u001b[0m\n\u001b[0;32m   3846\u001b[0m             \u001b[1;32melse\u001b[0m\u001b[1;33m:\u001b[0m\u001b[1;33m\u001b[0m\u001b[1;33m\u001b[0m\u001b[0m\n\u001b[0;32m   3847\u001b[0m                 \u001b[0mvalues\u001b[0m \u001b[1;33m=\u001b[0m \u001b[0mself\u001b[0m\u001b[1;33m.\u001b[0m\u001b[0mastype\u001b[0m\u001b[1;33m(\u001b[0m\u001b[0mobject\u001b[0m\u001b[1;33m)\u001b[0m\u001b[1;33m.\u001b[0m\u001b[0mvalues\u001b[0m\u001b[1;33m\u001b[0m\u001b[1;33m\u001b[0m\u001b[0m\n\u001b[1;32m-> 3848\u001b[1;33m                 \u001b[0mmapped\u001b[0m \u001b[1;33m=\u001b[0m \u001b[0mlib\u001b[0m\u001b[1;33m.\u001b[0m\u001b[0mmap_infer\u001b[0m\u001b[1;33m(\u001b[0m\u001b[0mvalues\u001b[0m\u001b[1;33m,\u001b[0m \u001b[0mf\u001b[0m\u001b[1;33m,\u001b[0m \u001b[0mconvert\u001b[0m\u001b[1;33m=\u001b[0m\u001b[0mconvert_dtype\u001b[0m\u001b[1;33m)\u001b[0m\u001b[1;33m\u001b[0m\u001b[1;33m\u001b[0m\u001b[0m\n\u001b[0m\u001b[0;32m   3849\u001b[0m \u001b[1;33m\u001b[0m\u001b[0m\n\u001b[0;32m   3850\u001b[0m         \u001b[1;32mif\u001b[0m \u001b[0mlen\u001b[0m\u001b[1;33m(\u001b[0m\u001b[0mmapped\u001b[0m\u001b[1;33m)\u001b[0m \u001b[1;32mand\u001b[0m \u001b[0misinstance\u001b[0m\u001b[1;33m(\u001b[0m\u001b[0mmapped\u001b[0m\u001b[1;33m[\u001b[0m\u001b[1;36m0\u001b[0m\u001b[1;33m]\u001b[0m\u001b[1;33m,\u001b[0m \u001b[0mSeries\u001b[0m\u001b[1;33m)\u001b[0m\u001b[1;33m:\u001b[0m\u001b[1;33m\u001b[0m\u001b[1;33m\u001b[0m\u001b[0m\n",
      "\u001b[1;32mpandas\\_libs\\lib.pyx\u001b[0m in \u001b[0;36mpandas._libs.lib.map_infer\u001b[1;34m()\u001b[0m\n",
      "\u001b[1;32m<ipython-input-73-4d5ca8df7fd0>\u001b[0m in \u001b[0;36m<lambda>\u001b[1;34m(x)\u001b[0m\n\u001b[0;32m      1\u001b[0m \u001b[1;31m# 生成年份与月份\u001b[0m\u001b[1;33m\u001b[0m\u001b[1;33m\u001b[0m\u001b[1;33m\u001b[0m\u001b[0m\n\u001b[1;32m----> 2\u001b[1;33m \u001b[0moutcome\u001b[0m\u001b[1;33m[\u001b[0m\u001b[1;34m'年与月'\u001b[0m\u001b[1;33m]\u001b[0m\u001b[1;33m=\u001b[0m\u001b[0moutcome\u001b[0m\u001b[1;33m[\u001b[0m\u001b[1;34m'开票日期'\u001b[0m\u001b[1;33m]\u001b[0m\u001b[1;33m.\u001b[0m\u001b[0mapply\u001b[0m\u001b[1;33m(\u001b[0m\u001b[1;32mlambda\u001b[0m \u001b[0mx\u001b[0m\u001b[1;33m:\u001b[0m\u001b[0mx\u001b[0m\u001b[1;33m.\u001b[0m\u001b[0mstrftime\u001b[0m\u001b[1;33m(\u001b[0m\u001b[1;34m\"%Y-%m-%d\"\u001b[0m\u001b[1;33m)\u001b[0m\u001b[1;33m)\u001b[0m\u001b[1;33m.\u001b[0m\u001b[0mmap\u001b[0m\u001b[1;33m(\u001b[0m\u001b[1;32mlambda\u001b[0m \u001b[0mx\u001b[0m\u001b[1;33m:\u001b[0m\u001b[0mx\u001b[0m\u001b[1;33m[\u001b[0m\u001b[1;33m:\u001b[0m\u001b[1;36m7\u001b[0m\u001b[1;33m]\u001b[0m\u001b[1;33m)\u001b[0m\u001b[1;33m\u001b[0m\u001b[1;33m\u001b[0m\u001b[0m\n\u001b[0m\u001b[0;32m      3\u001b[0m \u001b[0moutcome\u001b[0m\u001b[1;33m[\u001b[0m\u001b[1;34m'年'\u001b[0m\u001b[1;33m]\u001b[0m\u001b[1;33m=\u001b[0m\u001b[0moutcome\u001b[0m\u001b[1;33m[\u001b[0m\u001b[1;34m'开票日期'\u001b[0m\u001b[1;33m]\u001b[0m\u001b[1;33m.\u001b[0m\u001b[0mapply\u001b[0m\u001b[1;33m(\u001b[0m\u001b[1;32mlambda\u001b[0m \u001b[0mx\u001b[0m\u001b[1;33m:\u001b[0m\u001b[0mx\u001b[0m\u001b[1;33m.\u001b[0m\u001b[0mstrftime\u001b[0m\u001b[1;33m(\u001b[0m\u001b[1;34m\"%Y-%m-%d\"\u001b[0m\u001b[1;33m)\u001b[0m\u001b[1;33m)\u001b[0m\u001b[1;33m.\u001b[0m\u001b[0mmap\u001b[0m\u001b[1;33m(\u001b[0m\u001b[1;32mlambda\u001b[0m \u001b[0mx\u001b[0m\u001b[1;33m:\u001b[0m\u001b[0mx\u001b[0m\u001b[1;33m[\u001b[0m\u001b[1;33m:\u001b[0m\u001b[1;36m4\u001b[0m\u001b[1;33m]\u001b[0m\u001b[1;33m)\u001b[0m\u001b[1;33m\u001b[0m\u001b[1;33m\u001b[0m\u001b[0m\n\u001b[0;32m      4\u001b[0m \u001b[0mincome\u001b[0m\u001b[1;33m[\u001b[0m\u001b[1;34m'年与月'\u001b[0m\u001b[1;33m]\u001b[0m\u001b[1;33m=\u001b[0m\u001b[0mincome\u001b[0m\u001b[1;33m[\u001b[0m\u001b[1;34m'开票日期'\u001b[0m\u001b[1;33m]\u001b[0m\u001b[1;33m.\u001b[0m\u001b[0mapply\u001b[0m\u001b[1;33m(\u001b[0m\u001b[1;32mlambda\u001b[0m \u001b[0mx\u001b[0m\u001b[1;33m:\u001b[0m\u001b[0mx\u001b[0m\u001b[1;33m.\u001b[0m\u001b[0mstrftime\u001b[0m\u001b[1;33m(\u001b[0m\u001b[1;34m\"%Y-%m-%d\"\u001b[0m\u001b[1;33m)\u001b[0m\u001b[1;33m)\u001b[0m\u001b[1;33m.\u001b[0m\u001b[0mmap\u001b[0m\u001b[1;33m(\u001b[0m\u001b[1;32mlambda\u001b[0m \u001b[0mx\u001b[0m\u001b[1;33m:\u001b[0m\u001b[0mx\u001b[0m\u001b[1;33m[\u001b[0m\u001b[1;33m:\u001b[0m\u001b[1;36m7\u001b[0m\u001b[1;33m]\u001b[0m\u001b[1;33m)\u001b[0m\u001b[1;33m\u001b[0m\u001b[1;33m\u001b[0m\u001b[0m\n\u001b[0;32m      5\u001b[0m \u001b[0mincome\u001b[0m\u001b[1;33m[\u001b[0m\u001b[1;34m'年'\u001b[0m\u001b[1;33m]\u001b[0m\u001b[1;33m=\u001b[0m\u001b[0mincome\u001b[0m\u001b[1;33m[\u001b[0m\u001b[1;34m'开票日期'\u001b[0m\u001b[1;33m]\u001b[0m\u001b[1;33m.\u001b[0m\u001b[0mapply\u001b[0m\u001b[1;33m(\u001b[0m\u001b[1;32mlambda\u001b[0m \u001b[0mx\u001b[0m\u001b[1;33m:\u001b[0m\u001b[0mx\u001b[0m\u001b[1;33m.\u001b[0m\u001b[0mstrftime\u001b[0m\u001b[1;33m(\u001b[0m\u001b[1;34m\"%Y-%m-%d\"\u001b[0m\u001b[1;33m)\u001b[0m\u001b[1;33m)\u001b[0m\u001b[1;33m.\u001b[0m\u001b[0mmap\u001b[0m\u001b[1;33m(\u001b[0m\u001b[1;32mlambda\u001b[0m \u001b[0mx\u001b[0m\u001b[1;33m:\u001b[0m\u001b[0mx\u001b[0m\u001b[1;33m[\u001b[0m\u001b[1;33m:\u001b[0m\u001b[1;36m4\u001b[0m\u001b[1;33m]\u001b[0m\u001b[1;33m)\u001b[0m\u001b[1;33m\u001b[0m\u001b[1;33m\u001b[0m\u001b[0m\n",
      "\u001b[1;32mpandas\\_libs\\tslibs\\nattype.pyx\u001b[0m in \u001b[0;36mpandas._libs.tslibs.nattype._make_error_func.f\u001b[1;34m()\u001b[0m\n",
      "\u001b[1;31mValueError\u001b[0m: NaTType does not support strftime"
     ]
    }
   ],
   "source": [
    "# 生成年份与月份\n",
    "outcome['年与月']=outcome['开票日期'].apply(lambda x:x.strftime(\"%Y-%m-%d\")).map(lambda x:x[:7])\n",
    "outcome['年']=outcome['开票日期'].apply(lambda x:x.strftime(\"%Y-%m-%d\")).map(lambda x:x[:4])\n",
    "income['年与月']=income['开票日期'].apply(lambda x:x.strftime(\"%Y-%m-%d\")).map(lambda x:x[:7])\n",
    "income['年']=income['开票日期'].apply(lambda x:x.strftime(\"%Y-%m-%d\")).map(lambda x:x[:4])\n",
    "# income['季度']=income['年与月'].map(dic)\n",
    "income.head(5)"
   ]
  },
  {
   "cell_type": "code",
   "execution_count": null,
   "metadata": {},
   "outputs": [],
   "source": [
    "# 计算每个公司月份的销售额和进价额\n",
    "outcome_q=pd.DataFrame(outcome.groupby([outcome['企业代号'],outcome['年与月']])['金额'].sum())\n",
    "profit=pd.merge(outcome_q,pd.DataFrame(income.groupby([income['企业代号'],income['年与月']])['金额'].sum()),on=['企业代号','年与月'],how='outer')\n",
    "profit=profit.fillna(0)\n",
    "profit.rename(columns={'金额_x':'out_month','金额_y':'in_month'},inplace=True)\n",
    "profit.head()"
   ]
  },
  {
   "cell_type": "code",
   "execution_count": null,
   "metadata": {},
   "outputs": [],
   "source": [
    "# # 计算每个公司季度的销售额和进价额\n",
    "# outcome_q=pd.DataFrame(outcome.groupby([outcome['企业代号'],outcome['年与月']])['金额'].sum())\n",
    "# profit=pd.merge(outcome_q,pd.DataFrame(income.groupby([income['企业代号'],income['年与月']])['金额'].sum()),on=['企业代号','年与月'],how='outer')\n",
    "# profit=profit.fillna(0)\n",
    "# profit.rename(columns={'金额_x':'out_month','金额_y':'in_month'},inplace=True)\n",
    "# profit"
   ]
  },
  {
   "cell_type": "code",
   "execution_count": null,
   "metadata": {},
   "outputs": [],
   "source": [
    "# income=pd.merge(income,pd.DataFrame(income.groupby([income['企业代号'],income['季度']])['金额'].sum()),on=['企业代号','季度'])\n",
    "# income.rename(columns={'金额_y':'季度进货额'},inplace=True)"
   ]
  },
  {
   "cell_type": "code",
   "execution_count": null,
   "metadata": {},
   "outputs": [],
   "source": [
    "# 计算每个公司季度的销售额和进价额\n",
    "# outcome_q=pd.DataFrame(outcome.groupby([outcome['企业代号'],outcome['季度']])['金额'].sum())\n",
    "# profit=pd.merge(outcome_q,pd.DataFrame(income.groupby([income['企业代号'],income['季度']])['金额'].sum()),how='outer')\n",
    "# profit=profit.fillna(0)\n",
    "# profit.rename(columns={'金额_x':'out','金额_y':'in'},inplace=True)\n",
    "# profit"
   ]
  },
  {
   "cell_type": "code",
   "execution_count": null,
   "metadata": {},
   "outputs": [],
   "source": [
    "# 求每个月的利润及利润率\n",
    "profit['profit']=profit['out_month']-profit['in_month']\n",
    "profit['销售利润率']=profit['profit']/profit['out_month']\n",
    "profit['成本费用利润率']=profit['profit']/profit['in_month']\n",
    "profit.dropna(axis=0)"
   ]
  },
  {
   "cell_type": "code",
   "execution_count": null,
   "metadata": {},
   "outputs": [],
   "source": [
    "profit.to_excel('利润表.xlsx')"
   ]
  },
  {
   "cell_type": "code",
   "execution_count": null,
   "metadata": {},
   "outputs": [],
   "source": [
    "# 最大利润率超过100%即为暴利，于是我们将所有正无穷大的数设成1，负无穷为-1\n",
    "profit['销售利润率'].replace(-np.Inf, -1,inplace=True)\n",
    "profit['销售利润率'].replace(np.Inf, 1,inplace=True)\n",
    "profit=profit.reset_index()\n",
    "info=pd.merge(info,profit.groupby('企业代号')['销售利润率'].mean(),on='企业代号',how='left')\n",
    "info"
   ]
  },
  {
   "cell_type": "code",
   "execution_count": null,
   "metadata": {},
   "outputs": [],
   "source": [
    "# 用户销售的总金额\n",
    "client_sum=pd.DataFrame(outcome.groupby([outcome['企业代号'],outcome['购买单位代号']])['金额'].sum()).sort_values(by=['企业代号','金额'],ascending=[True,True])\n",
    "client_sum.rename(columns={'金额':'总金额'},inplace=True)\n",
    "client_sum=client_sum.fillna(0)\n",
    "client_sum\n",
    "# 用户销售的标准差\n",
    "client_std=pd.DataFrame(outcome.groupby([outcome['企业代号'],outcome['购买单位代号']])['金额'].std()).sort_values(by=['企业代号','金额'],ascending=[True,True])\n",
    "client_std.rename(columns={'金额':'标准差'},inplace=True)\n",
    "client_std=client_std.fillna(0)\n",
    "client_std\n",
    "# 用户销售的均值\n",
    "client_mean=pd.DataFrame(outcome.groupby([outcome['企业代号'],outcome['购买单位代号']])['金额'].mean()).sort_values(by=['企业代号','金额'],ascending=[True,False])\n",
    "client_mean.rename(columns={'金额':'均值'},inplace=True)\n",
    "client_mean=client_mean.fillna(0)\n",
    "client_mean"
   ]
  },
  {
   "cell_type": "code",
   "execution_count": null,
   "metadata": {},
   "outputs": [],
   "source": [
    "# 变异系数越大说明越不稳定\n",
    "pd.DataFrame(client_std['标准差']/client_mean['均值'])\n",
    "client=pd.merge(client_sum,pd.DataFrame(client_std['标准差']/client_mean['均值']),on=['企业代号','购买单位代号'],how='left')\n",
    "client.rename(columns={0:'变异系数'},inplace=True)\n",
    "client=client.reset_index()\n",
    "client"
   ]
  },
  {
   "cell_type": "code",
   "execution_count": null,
   "metadata": {},
   "outputs": [],
   "source": [
    "# 需求不稳定性\n",
    "for i in range(1,124):\n",
    "    no='E'+str(i)\n",
    "    a=client.loc[client['企业代号']==no]\n",
    "    a['百分比']=a['总金额']/a['总金额'].sum()\n",
    "#     a['百分比'] = (a['总金额'] - a['总金额'].min())/(a['总金额'].max() - a['总金额'].min())\n",
    "    info.loc[(info['企业代号']==no),'需求不稳定性']=a['百分比'].mul(a['变异系数']).sum()\n",
    "#     info.loc[(info['企业代号']==no),'需求因子']=a['总金额'].mul(a['变异系数']).sum()\n",
    "a"
   ]
  },
  {
   "cell_type": "code",
   "execution_count": null,
   "metadata": {},
   "outputs": [],
   "source": [
    "info"
   ]
  },
  {
   "cell_type": "code",
   "execution_count": null,
   "metadata": {},
   "outputs": [],
   "source": [
    "# 原材料购买总金额\n",
    "product_sum=pd.DataFrame(income.groupby([income['企业代号'],income['销方单位代号']])['金额'].sum()).sort_values(by=['企业代号','金额'],ascending=[True,False])\n",
    "product_sum.rename(columns={'金额':'总金额'},inplace=True)\n",
    "product_sum\n",
    "# 原材料购买标准差\n",
    "product_std=pd.DataFrame(income.groupby([income['企业代号'],income['销方单位代号']])['金额'].std()).sort_values(by=['企业代号','金额'],ascending=[True,True])\n",
    "product_std.rename(columns={'金额':'标准差'},inplace=True)\n",
    "product_std=product_std.fillna(0)\n",
    "product_std\n",
    "# 原材料购买的均值\n",
    "product_mean=pd.DataFrame(income.groupby([income['企业代号'],income['销方单位代号']])['金额'].mean()).sort_values(by=['企业代号','金额'],ascending=[True,False])\n",
    "product_mean.rename(columns={'金额':'均值'},inplace=True)\n",
    "product_mean=product_mean.fillna(0)\n",
    "product_mean"
   ]
  },
  {
   "cell_type": "code",
   "execution_count": null,
   "metadata": {},
   "outputs": [],
   "source": [
    "# 变异系数越大说明越不稳定\n",
    "pd.DataFrame(product_std['标准差']/product_mean['均值'])\n",
    "product=pd.merge(product_sum,pd.DataFrame(product_std['标准差']/product_mean['均值']),on=['企业代号','销方单位代号'],how='left')\n",
    "product.rename(columns={0:'变异系数'},inplace=True)\n",
    "product=product.reset_index()\n",
    "product"
   ]
  },
  {
   "cell_type": "code",
   "execution_count": null,
   "metadata": {},
   "outputs": [],
   "source": [
    "# 供给不稳定性\n",
    "for i in range(1,124):\n",
    "    no='E'+str(i)\n",
    "    a=product.loc[product['企业代号']==no]\n",
    "    a['百分比']=a['总金额']/a['总金额'].sum()\n",
    "#     a['百分比'] = (a['总金额'] - a['总金额'].min())/(a['总金额'].max() - a['总金额'].min())\n",
    "    info.loc[(info['企业代号']==no),'供给不稳定性']=a['百分比'].mul(a['变异系数']).sum()\n",
    "#     info.loc[(info['企业代号']==no),'需求因子']=a['总金额'].mul(a['变异系数']).sum()\n",
    "a"
   ]
  },
  {
   "cell_type": "code",
   "execution_count": null,
   "metadata": {},
   "outputs": [],
   "source": []
  }
 ],
 "metadata": {
  "kernelspec": {
   "display_name": "Python 3",
   "language": "python",
   "name": "python3"
  },
  "language_info": {
   "codemirror_mode": {
    "name": "ipython",
    "version": 3
   },
   "file_extension": ".py",
   "mimetype": "text/x-python",
   "name": "python",
   "nbconvert_exporter": "python",
   "pygments_lexer": "ipython3",
   "version": "3.7.6"
  }
 },
 "nbformat": 4,
 "nbformat_minor": 4
}
